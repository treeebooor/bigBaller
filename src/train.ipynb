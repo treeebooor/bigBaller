{
 "cells": [
  {
   "cell_type": "code",
   "execution_count": 1,
   "metadata": {},
   "outputs": [],
   "source": [
    "import torch\n",
    "\n",
    "from dataProcessing.ballerDataset import BallerDataset\n",
    "from torch.utils.data import DataLoader, random_split\n",
    "from torch.optim.lr_scheduler import ReduceLROnPlateau\n",
    "\n",
    "from models.macroModel import BallerModel\n",
    "from engineMacro import train,test"
   ]
  },
  {
   "cell_type": "code",
   "execution_count": 2,
   "metadata": {},
   "outputs": [
    {
     "data": {
      "text/plain": [
       "device(type='cuda')"
      ]
     },
     "execution_count": 2,
     "metadata": {},
     "output_type": "execute_result"
    }
   ],
   "source": [
    "device = torch.device('cuda') if torch.cuda.is_available() else torch.device('cpu')\n",
    "device"
   ]
  },
  {
   "cell_type": "markdown",
   "metadata": {},
   "source": [
    "## Le haiperparameteros\n"
   ]
  },
  {
   "cell_type": "code",
   "execution_count": 3,
   "metadata": {},
   "outputs": [],
   "source": [
    "IN_SEQ_LEN= 25\n",
    "OUT_SEQ_LEN = 15\n",
    "PLAYER_BALL_ENCODING_SIZE = 32   #this number *2 must be divisible by n_heads\n",
    "DROPOUT = 0.2\n",
    "LR = 1e-3\n",
    "BATCH_SIZE = 512\n",
    "EPOCHS = 10\n",
    "\n",
    "USE_LR_SCHEDULER = True\n",
    "SCHEDULER_PATIENCE = 10"
   ]
  },
  {
   "cell_type": "markdown",
   "metadata": {},
   "source": [
    "## Create DataLoaders\n"
   ]
  },
  {
   "cell_type": "code",
   "execution_count": 4,
   "metadata": {},
   "outputs": [],
   "source": [
    "train_path = '../test/train/'\n",
    "validation_path = '../test/validation/'\n",
    "test_path = '../test/test/'\n",
    "\n",
    "\n",
    "train_dataset = BallerDataset(train_path)\n",
    "validation_dataset = BallerDataset(validation_path)\n",
    "test_dataset = BallerDataset(test_path)\n",
    "\n",
    "train_dataloader = DataLoader(train_dataset, batch_size=BATCH_SIZE)\n",
    "validation_dataloader = DataLoader(validation_dataset, batch_size=BATCH_SIZE)\n",
    "test_dataloader = DataLoader(test_dataset, batch_size=BATCH_SIZE)\n"
   ]
  },
  {
   "cell_type": "markdown",
   "metadata": {},
   "source": [
    "## Create Model and things"
   ]
  },
  {
   "cell_type": "code",
   "execution_count": 5,
   "metadata": {},
   "outputs": [],
   "source": [
    "model = BallerModel(player_ball_encoding_size=PLAYER_BALL_ENCODING_SIZE,\n",
    "                    dropout=DROPOUT)\n",
    "model = model.double()\n",
    "model = model.to(device)\n",
    "loss_func = torch.nn.MSELoss()\n",
    "optim = torch.optim.Adam(model.parameters(), lr = LR)\n",
    "scheduler = ReduceLROnPlateau(optim, mode='min', patience=SCHEDULER_PATIENCE, verbose=True) if USE_LR_SCHEDULER else None"
   ]
  },
  {
   "cell_type": "code",
   "execution_count": null,
   "metadata": {},
   "outputs": [],
   "source": []
  },
  {
   "cell_type": "code",
   "execution_count": 6,
   "metadata": {},
   "outputs": [],
   "source": [
    "tgt_mask = BallerModel.generate_square_subsequent_mask(\n",
    "    dim1=OUT_SEQ_LEN,\n",
    "    dim2=OUT_SEQ_LEN\n",
    "    )\n",
    "src_mask = BallerModel.generate_square_subsequent_mask(\n",
    "    dim1=OUT_SEQ_LEN,\n",
    "    dim2=IN_SEQ_LEN\n",
    "    )\n",
    "tgt_mask = tgt_mask.to(device)\n",
    "src_mask = src_mask.to(device)"
   ]
  },
  {
   "cell_type": "markdown",
   "metadata": {},
   "source": [
    "## Train Model"
   ]
  },
  {
   "cell_type": "code",
   "execution_count": null,
   "metadata": {},
   "outputs": [
    {
     "name": "stdout",
     "output_type": "stream",
     "text": [
      "################\n",
      "#Begin training#\n",
      "################\n",
      "Epoch:0  Train Loss:0.04836  Val Loss:0.03218, Total Time:527.727680683136, Epoch Time:527.727680683136\n",
      "Epoch:1  Train Loss:0.02781  Val Loss:0.02544, Total Time:1057.9251368045807, Epoch Time:530.1974561214447\n"
     ]
    }
   ],
   "source": [
    "model, train_losses, val_losses = train(model = model,\n",
    "      loss_func=loss_func,\n",
    "      optim=optim,\n",
    "      scheduler=scheduler,\n",
    "      dataloaders=(train_dataloader,validation_dataloader),\n",
    "      epochs=EPOCHS,\n",
    "      device=device,\n",
    "      src_mask=src_mask,\n",
    "      tgt_mask=tgt_mask,\n",
    "      verbose=True\n",
    ")"
   ]
  },
  {
   "cell_type": "code",
   "execution_count": null,
   "metadata": {},
   "outputs": [],
   "source": []
  }
 ],
 "metadata": {
  "kernelspec": {
   "display_name": "Python 3 (ipykernel)",
   "language": "python",
   "name": "python3"
  },
  "language_info": {
   "codemirror_mode": {
    "name": "ipython",
    "version": 3
   },
   "file_extension": ".py",
   "mimetype": "text/x-python",
   "name": "python",
   "nbconvert_exporter": "python",
   "pygments_lexer": "ipython3",
   "version": "3.9.16"
  }
 },
 "nbformat": 4,
 "nbformat_minor": 4
}
